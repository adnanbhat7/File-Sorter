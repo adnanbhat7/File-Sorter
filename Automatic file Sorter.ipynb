{
 "cells": [
  {
   "cell_type": "code",
   "execution_count": 73,
   "id": "835ead47-325c-4a10-922f-431df4faa2c5",
   "metadata": {},
   "outputs": [],
   "source": [
    "import os,shutil"
   ]
  },
  {
   "cell_type": "code",
   "execution_count": 23,
   "id": "7b502b09-d44b-4238-87fa-099c4473e276",
   "metadata": {},
   "outputs": [],
   "source": [
    "path = r\"D:/portfolio project/File Sorter Py project/dataa/\""
   ]
  },
  {
   "cell_type": "code",
   "execution_count": 25,
   "id": "1a6237df-50f4-40f0-ac21-efd318db018e",
   "metadata": {},
   "outputs": [
    {
     "data": {
      "text/plain": [
       "['Excel.xlsx', 'image.jpeg', 'ppdf.pdf', 'video.mp4']"
      ]
     },
     "execution_count": 25,
     "metadata": {},
     "output_type": "execute_result"
    }
   ],
   "source": [
    "os.listdir(path)"
   ]
  },
  {
   "cell_type": "markdown",
   "id": "24908981-83cb-4937-a3b9-040c073b8ac9",
   "metadata": {},
   "source": [
    "# check if the path exists"
   ]
  },
  {
   "cell_type": "code",
   "execution_count": 31,
   "id": "ec2c0c84-c876-4343-89ec-6e8e124a1f39",
   "metadata": {},
   "outputs": [],
   "source": [
    "folder_names = [\"image files\", \"video files\", \"excel files\", \"PDF files\"]\n",
    "\n",
    "for folder in folder_names:\n",
    "    if not (os.path.exists(path + folder )):\n",
    "        os.makedirs(path + folder)"
   ]
  },
  {
   "cell_type": "code",
   "execution_count": 70,
   "id": "59e7e603-7ead-4dcb-be3d-4600dd09bdc4",
   "metadata": {},
   "outputs": [
    {
     "data": {
      "text/plain": [
       "['excel files',\n",
       " 'Excel.xlsx',\n",
       " 'image files',\n",
       " 'image.jpg',\n",
       " 'PDF files',\n",
       " 'ppdf.pdf',\n",
       " 'video files',\n",
       " 'video.mp4']"
      ]
     },
     "execution_count": 70,
     "metadata": {},
     "output_type": "execute_result"
    }
   ],
   "source": [
    "file_names = os.listdir(path)\n",
    "file_names"
   ]
  },
  {
   "cell_type": "code",
   "execution_count": 71,
   "id": "8bcab349-50fa-4407-9683-f9ac8b548ccd",
   "metadata": {},
   "outputs": [
    {
     "name": "stdout",
     "output_type": "stream",
     "text": [
      "Done \n"
     ]
    }
   ],
   "source": [
    "for file in file_names:\n",
    "    if \".jpg\" in file :\n",
    "        if not os.path.exists(path + \"image files/\" + file) :\n",
    "            shutil.move(path + file,path + \"image files/\" + file)\n",
    "        else :\n",
    "              os.remove(path + file)\n",
    "            \n",
    "    elif \".xlsx\" in file :\n",
    "        if not os.path.exists(path + \"excel files/\" + file) :\n",
    "            shutil.move(path + file,path + \"excel files/\" + file)\n",
    "        else :\n",
    "              os.remove(path + file)\n",
    "            \n",
    "    elif \".mp4\" in file :\n",
    "        if not os.path.exists(path + \"video files/\" + file) :\n",
    "            shutil.move(path + file,path + \"video files/\" + file)\n",
    "        else :\n",
    "              os.remove(path + file)\n",
    "    elif \".pdf\" in file :\n",
    "        if not os.path.exists(path + \"PDF files/\" + file) :\n",
    "            shutil.move(path + file,path + \"PDF files/\" + file)\n",
    "        else :\n",
    "              os.remove(path + file)\n",
    "print(\"Done \")"
   ]
  },
  {
   "cell_type": "code",
   "execution_count": 72,
   "id": "4a605919-4d5b-45cd-8843-aad0895f438a",
   "metadata": {},
   "outputs": [
    {
     "data": {
      "text/plain": [
       "['excel files', 'image files', 'PDF files', 'video files']"
      ]
     },
     "execution_count": 72,
     "metadata": {},
     "output_type": "execute_result"
    }
   ],
   "source": [
    "os.listdir(path)"
   ]
  },
  {
   "cell_type": "code",
   "execution_count": null,
   "id": "c5ce84ed-5676-4c36-9b91-4626bb8902f9",
   "metadata": {},
   "outputs": [],
   "source": []
  }
 ],
 "metadata": {
  "kernelspec": {
   "display_name": "Python 3 (ipykernel)",
   "language": "python",
   "name": "python3"
  },
  "language_info": {
   "codemirror_mode": {
    "name": "ipython",
    "version": 3
   },
   "file_extension": ".py",
   "mimetype": "text/x-python",
   "name": "python",
   "nbconvert_exporter": "python",
   "pygments_lexer": "ipython3",
   "version": "3.12.2"
  }
 },
 "nbformat": 4,
 "nbformat_minor": 5
}
